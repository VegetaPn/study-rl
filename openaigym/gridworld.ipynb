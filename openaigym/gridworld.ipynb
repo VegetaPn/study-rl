{
 "cells": [
  {
   "metadata": {
    "ExecuteTime": {
     "end_time": "2025-08-01T18:33:37.447986Z",
     "start_time": "2025-08-01T18:33:37.373229Z"
    }
   },
   "cell_type": "code",
   "source": [
    "import gymnasium as gym\n",
    "from openaigym.gridworld import GridWorldEnv\n",
    "\n",
    "# Register the environment so we can create it with gym.make()\n",
    "gym.register(\n",
    "    id=\"gymnasium_env/GridWorld-v0\",\n",
    "    entry_point=GridWorldEnv,\n",
    "    max_episode_steps=300,  # Prevent infinite episodes\n",
    ")"
   ],
   "id": "c7c8066785572ac8",
   "outputs": [],
   "execution_count": 1
  },
  {
   "metadata": {
    "ExecuteTime": {
     "end_time": "2025-08-01T18:33:58.724428Z",
     "start_time": "2025-08-01T18:33:58.716140Z"
    }
   },
   "cell_type": "code",
   "source": [
    "# Create the environment like any built-in environment\n",
    "env = gym.make(\"gymnasium_env/GridWorld-v0\")\n",
    "env"
   ],
   "id": "778f3add17539838",
   "outputs": [
    {
     "data": {
      "text/plain": [
       "<TimeLimit<OrderEnforcing<PassiveEnvChecker<GridWorldEnv<gymnasium_env/GridWorld-v0>>>>>"
      ]
     },
     "execution_count": 3,
     "metadata": {},
     "output_type": "execute_result"
    }
   ],
   "execution_count": 3
  },
  {
   "metadata": {
    "ExecuteTime": {
     "end_time": "2025-08-01T18:34:58.111278Z",
     "start_time": "2025-08-01T18:34:58.104945Z"
    }
   },
   "cell_type": "code",
   "source": [
    "# Customize environment parameters\n",
    "env = gym.make(\"gymnasium_env/GridWorld-v0\", size=10)\n",
    "env.unwrapped.size"
   ],
   "id": "7a1de95eed78e90c",
   "outputs": [
    {
     "data": {
      "text/plain": [
       "10"
      ]
     },
     "execution_count": 4,
     "metadata": {},
     "output_type": "execute_result"
    }
   ],
   "execution_count": 4
  },
  {
   "metadata": {
    "ExecuteTime": {
     "end_time": "2025-08-01T18:35:36.510906Z",
     "start_time": "2025-08-01T18:35:36.500352Z"
    }
   },
   "cell_type": "code",
   "source": [
    "# Create multiple environments for parallel training\n",
    "vec_env = gym.make_vec(\"gymnasium_env/GridWorld-v0\", num_envs=3)\n",
    "vec_env"
   ],
   "id": "77e520f536592b6c",
   "outputs": [
    {
     "data": {
      "text/plain": [
       "SyncVectorEnv(gymnasium_env/GridWorld-v0, num_envs=3)"
      ]
     },
     "execution_count": 5,
     "metadata": {},
     "output_type": "execute_result"
    }
   ],
   "execution_count": 5
  },
  {
   "metadata": {
    "ExecuteTime": {
     "end_time": "2025-08-01T18:37:41.321287Z",
     "start_time": "2025-08-01T18:37:41.312305Z"
    }
   },
   "cell_type": "code",
   "source": [
    "from gymnasium.utils.env_checker import check_env\n",
    "\n",
    "# This will catch many common issues\n",
    "try:\n",
    "    check_env(env.unwrapped)\n",
    "    print(\"Environment passes all checks!\")\n",
    "except Exception as e:\n",
    "    print(f\"Environment has issues: {e}\")"
   ],
   "id": "e6ef0e0a5555daf3",
   "outputs": [
    {
     "name": "stdout",
     "output_type": "stream",
     "text": [
      "Environment passes all checks!\n"
     ]
    }
   ],
   "execution_count": 7
  },
  {
   "metadata": {
    "ExecuteTime": {
     "end_time": "2025-08-01T18:38:34.802822Z",
     "start_time": "2025-08-01T18:38:34.795941Z"
    }
   },
   "cell_type": "code",
   "source": [
    "# Test specific action sequences to verify behavior\n",
    "env = gym.make(\"gymnasium_env/GridWorld-v0\")\n",
    "obs, info = env.reset(seed=42)  # Use seed for reproducible testing\n",
    "\n",
    "print(f\"Starting position - Agent: {obs['agent']}, Target: {obs['target']}\")\n",
    "\n",
    "# Test each action type\n",
    "actions = [0, 1, 2, 3]  # right, up, left, down\n",
    "for action in actions:\n",
    "    old_pos = obs['agent'].copy()\n",
    "    obs, reward, terminated, truncated, info = env.step(action)\n",
    "    new_pos = obs['agent']\n",
    "    print(f\"Action {action}: {old_pos} -> {new_pos}, reward={reward}\")"
   ],
   "id": "3b1f185a256fa797",
   "outputs": [
    {
     "name": "stdout",
     "output_type": "stream",
     "text": [
      "Starting position - Agent: [0 3], Target: [3 2]\n",
      "Action 0: [0 3] -> [1 3], reward=0\n",
      "Action 1: [1 3] -> [1 4], reward=0\n",
      "Action 2: [1 4] -> [0 4], reward=0\n",
      "Action 3: [0 4] -> [0 3], reward=0\n"
     ]
    }
   ],
   "execution_count": 8
  },
  {
   "metadata": {
    "ExecuteTime": {
     "end_time": "2025-08-01T18:42:04.636794Z",
     "start_time": "2025-08-01T18:42:04.632215Z"
    }
   },
   "cell_type": "code",
   "source": [
    "from gymnasium.wrappers import FlattenObservation\n",
    "\n",
    "# Original observation is a dictionary\n",
    "env = gym.make('gymnasium_env/GridWorld-v0')\n",
    "env.observation_space"
   ],
   "id": "8d55f2675811ecdd",
   "outputs": [
    {
     "data": {
      "text/plain": [
       "Dict('agent': Box(0, 4, (2,), int64), 'target': Box(0, 4, (2,), int64))"
      ]
     },
     "execution_count": 10,
     "metadata": {},
     "output_type": "execute_result"
    }
   ],
   "execution_count": 10
  },
  {
   "metadata": {
    "ExecuteTime": {
     "end_time": "2025-08-01T18:42:08.042650Z",
     "start_time": "2025-08-01T18:42:08.039133Z"
    }
   },
   "cell_type": "code",
   "source": [
    "obs, info = env.reset()\n",
    "obs"
   ],
   "id": "447f8e28d163f28a",
   "outputs": [
    {
     "data": {
      "text/plain": [
       "{'agent': array([3, 3]), 'target': array([1, 4])}"
      ]
     },
     "execution_count": 11,
     "metadata": {},
     "output_type": "execute_result"
    }
   ],
   "execution_count": 11
  },
  {
   "metadata": {
    "ExecuteTime": {
     "end_time": "2025-08-01T18:42:24.532587Z",
     "start_time": "2025-08-01T18:42:24.526188Z"
    }
   },
   "cell_type": "code",
   "source": [
    "# Wrap it to flatten observations into a single array\n",
    "wrapped_env = FlattenObservation(env)\n",
    "wrapped_env.observation_space"
   ],
   "id": "59abddcf7f496cf0",
   "outputs": [
    {
     "data": {
      "text/plain": [
       "Box(0, 4, (4,), int64)"
      ]
     },
     "execution_count": 12,
     "metadata": {},
     "output_type": "execute_result"
    }
   ],
   "execution_count": 12
  },
  {
   "metadata": {
    "ExecuteTime": {
     "end_time": "2025-08-01T18:42:32.773498Z",
     "start_time": "2025-08-01T18:42:32.768912Z"
    }
   },
   "cell_type": "code",
   "source": [
    "obs, info = wrapped_env.reset()\n",
    "obs"
   ],
   "id": "16c46cb782b61ec4",
   "outputs": [
    {
     "data": {
      "text/plain": [
       "array([3, 3, 4, 2])"
      ]
     },
     "execution_count": 13,
     "metadata": {},
     "output_type": "execute_result"
    }
   ],
   "execution_count": 13
  }
 ],
 "metadata": {
  "kernelspec": {
   "display_name": "Python 3",
   "language": "python",
   "name": "python3"
  },
  "language_info": {
   "codemirror_mode": {
    "name": "ipython",
    "version": 2
   },
   "file_extension": ".py",
   "mimetype": "text/x-python",
   "name": "python",
   "nbconvert_exporter": "python",
   "pygments_lexer": "ipython2",
   "version": "2.7.6"
  }
 },
 "nbformat": 4,
 "nbformat_minor": 5
}
