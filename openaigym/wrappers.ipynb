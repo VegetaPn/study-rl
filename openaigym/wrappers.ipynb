{
 "cells": [
  {
   "cell_type": "code",
   "id": "initial_id",
   "metadata": {
    "collapsed": true,
    "ExecuteTime": {
     "end_time": "2025-08-02T16:19:43.259313Z",
     "start_time": "2025-08-02T16:19:42.933596Z"
    }
   },
   "source": [
    "import gymnasium as gym\n",
    "from gymnasium.wrappers import RescaleAction\n",
    "\n",
    "base_env = gym.make(\"Hopper-v4\")\n",
    "base_env.action_space"
   ],
   "outputs": [
    {
     "name": "stderr",
     "output_type": "stream",
     "text": [
      "/Users/yanhaonan/Documents/projects/study-rl/.venv/lib/python3.9/site-packages/gymnasium/envs/registration.py:519: DeprecationWarning: \u001B[33mWARN: The environment Hopper-v4 is out of date. You should consider upgrading to version `v5`.\u001B[0m\n",
      "  logger.deprecation(\n"
     ]
    },
    {
     "data": {
      "text/plain": [
       "Box(-1.0, 1.0, (3,), float32)"
      ]
     },
     "execution_count": 2,
     "metadata": {},
     "output_type": "execute_result"
    }
   ],
   "execution_count": 2
  },
  {
   "metadata": {
    "ExecuteTime": {
     "end_time": "2025-08-02T16:20:18.976195Z",
     "start_time": "2025-08-02T16:20:18.960409Z"
    }
   },
   "cell_type": "code",
   "source": [
    "wrapped_env = RescaleAction(base_env, min_action=0, max_action=1)\n",
    "wrapped_env.action_space"
   ],
   "id": "d6a7a12d79e92834",
   "outputs": [
    {
     "data": {
      "text/plain": [
       "Box(0.0, 1.0, (3,), float32)"
      ]
     },
     "execution_count": 3,
     "metadata": {},
     "output_type": "execute_result"
    }
   ],
   "execution_count": 3
  },
  {
   "metadata": {
    "ExecuteTime": {
     "end_time": "2025-08-02T16:20:56.857645Z",
     "start_time": "2025-08-02T16:20:56.854280Z"
    }
   },
   "cell_type": "code",
   "source": "wrapped_env",
   "id": "6e70ef231e8707be",
   "outputs": [
    {
     "data": {
      "text/plain": [
       "<RescaleAction<TimeLimit<OrderEnforcing<PassiveEnvChecker<HopperEnv<Hopper-v4>>>>>>"
      ]
     },
     "execution_count": 4,
     "metadata": {},
     "output_type": "execute_result"
    }
   ],
   "execution_count": 4
  },
  {
   "metadata": {
    "ExecuteTime": {
     "end_time": "2025-08-02T16:21:14.111493Z",
     "start_time": "2025-08-02T16:21:14.107315Z"
    }
   },
   "cell_type": "code",
   "source": "wrapped_env.env",
   "id": "e445cb70bf4c7c01",
   "outputs": [
    {
     "data": {
      "text/plain": [
       "<TimeLimit<OrderEnforcing<PassiveEnvChecker<HopperEnv<Hopper-v4>>>>>"
      ]
     },
     "execution_count": 5,
     "metadata": {},
     "output_type": "execute_result"
    }
   ],
   "execution_count": 5
  },
  {
   "metadata": {
    "ExecuteTime": {
     "end_time": "2025-08-02T16:21:42.733184Z",
     "start_time": "2025-08-02T16:21:42.727717Z"
    }
   },
   "cell_type": "code",
   "source": "wrapped_env.unwrapped",
   "id": "8503a2822a6dd418",
   "outputs": [
    {
     "data": {
      "text/plain": [
       "<gymnasium.envs.mujoco.hopper_v4.HopperEnv at 0x10472db80>"
      ]
     },
     "execution_count": 6,
     "metadata": {},
     "output_type": "execute_result"
    }
   ],
   "execution_count": 6
  },
  {
   "metadata": {
    "ExecuteTime": {
     "end_time": "2025-08-02T16:59:07.968921Z",
     "start_time": "2025-08-02T16:59:07.928345Z"
    }
   },
   "cell_type": "code",
   "source": [
    "import numpy as np\n",
    "import gymnasium as gym\n",
    "\n",
    "env = gym.make(\"MountainCarContinuous-v0\")\n",
    "_ = env.reset(seed=123)\n",
    "obs, *_= env.step(np.array([0.0, 1.0]))\n",
    "obs"
   ],
   "id": "df1e4c812f07f590",
   "outputs": [
    {
     "data": {
      "text/plain": [
       "array([-4.6397772e-01, -4.4808415e-04], dtype=float32)"
      ]
     },
     "execution_count": 7,
     "metadata": {},
     "output_type": "execute_result"
    }
   ],
   "execution_count": 7
  },
  {
   "metadata": {
    "ExecuteTime": {
     "end_time": "2025-08-02T17:00:06.332656Z",
     "start_time": "2025-08-02T17:00:06.321190Z"
    }
   },
   "cell_type": "code",
   "source": [
    "from gymnasium.wrappers import TransformAction\n",
    "\n",
    "env = gym.make(\"MountainCarContinuous-v0\")\n",
    "env = TransformAction(env, lambda a: 0.5 * a + 0.1, env.action_space)\n",
    "_ = env.reset(seed=123)\n",
    "obs, *_= env.step(np.array([0.0, 1.0]))\n",
    "obs"
   ],
   "id": "eca1f34732d6a591",
   "outputs": [
    {
     "data": {
      "text/plain": [
       "array([-4.6382770e-01, -2.9808417e-04], dtype=float32)"
      ]
     },
     "execution_count": 8,
     "metadata": {},
     "output_type": "execute_result"
    }
   ],
   "execution_count": 8
  },
  {
   "metadata": {
    "ExecuteTime": {
     "end_time": "2025-08-02T17:31:25.996835Z",
     "start_time": "2025-08-02T17:31:25.987064Z"
    }
   },
   "cell_type": "code",
   "source": [
    "import gymnasium as gym\n",
    "from gymnasium.wrappers import TimeAwareObservation\n",
    "env = gym.make(\"CartPole-v1\")\n",
    "env = TimeAwareObservation(env)\n",
    "env.observation_space"
   ],
   "id": "a427c964ea418979",
   "outputs": [
    {
     "data": {
      "text/plain": [
       "Box([-4.80000019        -inf -0.41887903        -inf  0.        ], [4.80000019e+00            inf 4.18879032e-01            inf\n",
       " 5.00000000e+02], (5,), float64)"
      ]
     },
     "execution_count": 9,
     "metadata": {},
     "output_type": "execute_result"
    }
   ],
   "execution_count": 9
  },
  {
   "metadata": {
    "ExecuteTime": {
     "end_time": "2025-08-03T04:36:19.365203Z",
     "start_time": "2025-08-03T04:36:19.356410Z"
    }
   },
   "cell_type": "code",
   "source": [
    "import numpy as np\n",
    "\n",
    "import gymnasium as gym\n",
    "from gymnasium import ActionWrapper, ObservationWrapper, RewardWrapper, Wrapper\n",
    "from gymnasium.spaces import Box, Discrete\n",
    "\n",
    "class RelativePosition(ObservationWrapper):\n",
    "    def __init__(self, env):\n",
    "        super().__init__(env)\n",
    "        self.observation_space = Box(shape=(2,), low=-np.inf, high=np.inf)\n",
    "\n",
    "    def observation(self, obs):\n",
    "        return obs[\"target\"] - obs[\"agent\"]"
   ],
   "id": "97947f579a464451",
   "outputs": [],
   "execution_count": 10
  },
  {
   "metadata": {
    "ExecuteTime": {
     "end_time": "2025-08-03T05:06:42.482753Z",
     "start_time": "2025-08-03T05:06:42.181362Z"
    }
   },
   "cell_type": "code",
   "source": [
    "class DiscreteActions(ActionWrapper):\n",
    "    def __init__(self, env, disc_to_cont):\n",
    "        super().__init__(env)\n",
    "        self.disc_to_cont = disc_to_cont\n",
    "        self.action_space = Discrete(len(disc_to_cont))\n",
    "\n",
    "    def action(self, act):\n",
    "        return self.disc_to_cont[act]\n",
    "\n",
    "env = gym.make(\"LunarLanderContinuous-v3\")\n",
    "print(env.action_space)  # Box(-1.0, 1.0, (2,), float32)\n",
    "\n",
    "wrapped_env = DiscreteActions(\n",
    "    env, [np.array([1, 0]), np.array([-1, 0]), np.array([0, 1]), np.array([0, -1])]\n",
    ")\n",
    "print(wrapped_env.action_space)  # Discrete(4)"
   ],
   "id": "9d4bfcaffd57127e",
   "outputs": [
    {
     "name": "stdout",
     "output_type": "stream",
     "text": [
      "Box(-1.0, 1.0, (2,), float32)\n",
      "Discrete(4)\n"
     ]
    }
   ],
   "execution_count": 11
  },
  {
   "metadata": {
    "ExecuteTime": {
     "end_time": "2025-08-03T05:11:41.964704Z",
     "start_time": "2025-08-03T05:11:41.958825Z"
    }
   },
   "cell_type": "code",
   "source": [
    "from typing import SupportsFloat\n",
    "\n",
    "\n",
    "class ClipReward(RewardWrapper):\n",
    "    def __init__(self, env, min_reward, max_reward):\n",
    "        super().__init__(env)\n",
    "        self.min_reward = min_reward\n",
    "        self.max_reward = max_reward\n",
    "\n",
    "    def reward(self, r: SupportsFloat) -> SupportsFloat:\n",
    "        return np.clip(r, self.min_reward, self.max_reward)"
   ],
   "id": "89db655694e8fe2",
   "outputs": [],
   "execution_count": 12
  },
  {
   "metadata": {
    "ExecuteTime": {
     "end_time": "2025-08-03T05:13:27.514689Z",
     "start_time": "2025-08-03T05:13:27.512237Z"
    }
   },
   "cell_type": "code",
   "source": [
    "class ReacherRewardWrapper(Wrapper):\n",
    "    def __init__(self, env, reward_dist_weight, reward_ctrl_weight):\n",
    "        super().__init__(env)\n",
    "        self.reward_dist_weight = reward_dist_weight\n",
    "        self.reward_ctrl_weight = reward_ctrl_weight\n",
    "\n",
    "    def step(self, action):\n",
    "        obs, _, terminated, truncated, info = self.env.step(action)\n",
    "        reward = (\n",
    "            self.reward_dist_weight * info[\"reward_dist\"]\n",
    "            + self.reward_ctrl_weight * info[\"reward_ctrl\"]\n",
    "        )\n",
    "        return obs, reward, terminated, truncated, info"
   ],
   "id": "e7b888b2953cce71",
   "outputs": [],
   "execution_count": 13
  }
 ],
 "metadata": {
  "kernelspec": {
   "display_name": "Python 3",
   "language": "python",
   "name": "python3"
  },
  "language_info": {
   "codemirror_mode": {
    "name": "ipython",
    "version": 2
   },
   "file_extension": ".py",
   "mimetype": "text/x-python",
   "name": "python",
   "nbconvert_exporter": "python",
   "pygments_lexer": "ipython2",
   "version": "2.7.6"
  }
 },
 "nbformat": 4,
 "nbformat_minor": 5
}
