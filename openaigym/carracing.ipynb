{
 "cells": [
  {
   "cell_type": "code",
   "id": "initial_id",
   "metadata": {
    "collapsed": true,
    "ExecuteTime": {
     "end_time": "2025-08-01T14:47:27.422638Z",
     "start_time": "2025-08-01T14:47:27.382596Z"
    }
   },
   "source": [
    "import gymnasium as gym\n",
    "from gymnasium.wrappers import FlattenObservation\n",
    "\n",
    "# Start with a complex observation space\n",
    "env = gym.make(\"CarRacing-v3\")\n",
    "env.observation_space.shape"
   ],
   "outputs": [
    {
     "data": {
      "text/plain": [
       "(96, 96, 3)"
      ]
     },
     "execution_count": 2,
     "metadata": {},
     "output_type": "execute_result"
    }
   ],
   "execution_count": 2
  },
  {
   "metadata": {
    "ExecuteTime": {
     "end_time": "2025-08-01T14:47:53.946913Z",
     "start_time": "2025-08-01T14:47:53.934268Z"
    }
   },
   "cell_type": "code",
   "source": [
    "# Wrap it to flatten the observation into a 1D array\n",
    "wrapped_env = FlattenObservation(env)\n",
    "wrapped_env.observation_space.shape"
   ],
   "id": "fb0307ddb97e1ac4",
   "outputs": [
    {
     "data": {
      "text/plain": [
       "(27648,)"
      ]
     },
     "execution_count": 3,
     "metadata": {},
     "output_type": "execute_result"
    }
   ],
   "execution_count": 3
  },
  {
   "metadata": {
    "ExecuteTime": {
     "end_time": "2025-08-01T14:51:41.625042Z",
     "start_time": "2025-08-01T14:51:41.620621Z"
    }
   },
   "cell_type": "code",
   "source": "wrapped_env",
   "id": "7558823f525bf133",
   "outputs": [
    {
     "data": {
      "text/plain": [
       "<FlattenObservation<TimeLimit<OrderEnforcing<PassiveEnvChecker<CarRacing<CarRacing-v3>>>>>>"
      ]
     },
     "execution_count": 4,
     "metadata": {},
     "output_type": "execute_result"
    }
   ],
   "execution_count": 4
  },
  {
   "metadata": {
    "ExecuteTime": {
     "end_time": "2025-08-01T14:52:06.200727Z",
     "start_time": "2025-08-01T14:52:06.195828Z"
    }
   },
   "cell_type": "code",
   "source": "wrapped_env.unwrapped",
   "id": "3d102db56b8b278d",
   "outputs": [
    {
     "data": {
      "text/plain": [
       "<gymnasium.envs.box2d.car_racing.CarRacing at 0x104f94100>"
      ]
     },
     "execution_count": 5,
     "metadata": {},
     "output_type": "execute_result"
    }
   ],
   "execution_count": 5
  }
 ],
 "metadata": {
  "kernelspec": {
   "display_name": "Python 3",
   "language": "python",
   "name": "python3"
  },
  "language_info": {
   "codemirror_mode": {
    "name": "ipython",
    "version": 2
   },
   "file_extension": ".py",
   "mimetype": "text/x-python",
   "name": "python",
   "nbconvert_exporter": "python",
   "pygments_lexer": "ipython2",
   "version": "2.7.6"
  }
 },
 "nbformat": 4,
 "nbformat_minor": 5
}
